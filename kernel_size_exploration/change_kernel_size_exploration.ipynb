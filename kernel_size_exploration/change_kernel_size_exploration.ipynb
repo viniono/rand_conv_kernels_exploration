{
 "cells": [
  {
   "cell_type": "code",
   "execution_count": 5,
   "metadata": {},
   "outputs": [],
   "source": [
    "# from rocket_main import generate_kernelss, apply_kernels\n",
    "from sklearn.linear_model import RidgeClassifierCV\n",
    "import sys  \n",
    "import numba\n",
    "sys.path.insert(1, '../')\n",
    "from pre_processing_clean import pre_processing\n",
    "import warnings\n",
    "import numpy as np\n",
    "import pandas as pd\n",
    "import xgboost as xgb\n",
    "from sklearn import metrics\n",
    "from sklearn.ensemble import GradientBoostingClassifier\n",
    "from sklearn.naive_bayes import GaussianNB\n",
    "from sklearn.linear_model import LogisticRegression\n",
    "from sklearn.metrics import accuracy_score, f1_score\n",
    "from sklearn.exceptions import DataConversionWarning\n",
    "import asyncio\n",
    "from xgboost import XGBClassifier\n",
    "import pickle\n",
    "from sklearn.feature_selection import SelectFdr, chi2\n",
    "from sklearn.pipeline import Pipeline\n",
    "from sklearn.model_selection import GridSearchCV\n",
    "from sklearn.linear_model import LogisticRegressionCV\n",
    "import warnings\n",
    "import matplotlib.pyplot as plt\n",
    "import numpy as np\n",
    "from sklearn.utils import resample\n",
    "from scipy.stats import sem\n",
    "\n",
    "\n"
   ]
  },
  {
   "cell_type": "code",
   "execution_count": 29,
   "metadata": {},
   "outputs": [
    {
     "name": "stderr",
     "output_type": "stream",
     "text": [
      "OMP: Info #276: omp_set_nested routine deprecated, please use omp_set_max_active_levels instead.\n"
     ]
    }
   ],
   "source": [
    "## ROCKET FUNCTIONS TO BE MODIFIED\n",
    "from numba import njit, prange\n",
    "# @njit(\"Tuple((float64[:],int32[:],float64[:],int32[:],int32[:]))(int64,int64)\")\n",
    "@njit(\"Tuple((float64[:],int32[:],float64[:],int32[:],int32[:]))(int64,int64,int32[:])\")\n",
    "def generate_kernelss(input_length, num_kernels,kernel_len):\n",
    "    #7,9,11\n",
    "    # candidate_lengths = np.array((20,20,20), dtype = np.int32)\n",
    "    candidate_lengths=kernel_len\n",
    "    lengths = np.random.choice(candidate_lengths, num_kernels)\n",
    "\n",
    "    weights = np.zeros(lengths.sum(), dtype = np.float64)\n",
    "    biases = np.zeros(num_kernels, dtype = np.float64)\n",
    "    dilations = np.zeros(num_kernels, dtype = np.int32)\n",
    "    paddings = np.zeros(num_kernels, dtype = np.int32)\n",
    "\n",
    "    a1 = 0\n",
    "\n",
    "    for i in range(num_kernels):\n",
    "\n",
    "        _length = lengths[i]\n",
    "\n",
    "        _weights = np.random.normal(0, 1, _length)\n",
    "\n",
    "        b1 = a1 + _length\n",
    "        weights[a1:b1] = _weights - _weights.mean()\n",
    "\n",
    "        biases[i] = np.random.uniform(-1, 1)\n",
    "\n",
    "        # dilation = 2 ** np.random.uniform(0, np.log2((input_length - 1) / (_length - 1))) if _length != input_length else 1\n",
    "        dilation = 2 ** np.random.uniform(0, np.log2(max((input_length - 1) / (_length - 1), 1))) if _length != input_length else 1\n",
    "\n",
    "        # dilation = 2 ** np.random.uniform(0, np.log2((input_length - 1) / (_length - 1)))\n",
    "        dilation = np.int32(dilation)\n",
    "        dilations[i] = dilation\n",
    "\n",
    "        padding = ((_length - 1) * dilation) // 2 if np.random.randint(2) == 1 else 0\n",
    "        paddings[i] = padding\n",
    "\n",
    "        a1 = b1\n",
    "\n",
    "    return weights, lengths, biases, dilations, paddings\n",
    "\n",
    "\n",
    "\n",
    "@njit(fastmath = True)\n",
    "def apply_kernel(X, weights, length, bias, dilation, padding):\n",
    "\n",
    "    input_length = len(X)\n",
    "\n",
    "    output_length = (input_length + (2 * padding)) - ((length - 1) * dilation)\n",
    "\n",
    "    _ppv = 0\n",
    "    # _max = np.NINF\n",
    "\n",
    "    end = (input_length + padding) - ((length - 1) * dilation)\n",
    "\n",
    "    for i in range(-padding, end):\n",
    "\n",
    "        _sum = bias\n",
    "\n",
    "        index = i\n",
    "\n",
    "        for j in range(length):\n",
    "\n",
    "            if index > -1 and index < input_length:\n",
    "\n",
    "                _sum = _sum + weights[j] * X[index]\n",
    "\n",
    "            index = index + dilation\n",
    "\n",
    "        # if _sum > _max:\n",
    "        #     _max = _sum\n",
    "\n",
    "        if _sum > 0:\n",
    "            _ppv += 1\n",
    "# , _max\n",
    "    return _ppv / output_length\n",
    "\n",
    "@njit(\"float64[:,:](float64[:,:],Tuple((float64[::1],int32[:],float64[:],int32[:],int32[:])))\", parallel = True, fastmath = True)\n",
    "def apply_kernels(X, kernels):\n",
    "\n",
    "    weights, lengths, biases, dilations, paddings = kernels\n",
    "\n",
    "    num_examples, _ = X.shape\n",
    "    num_kernels = len(lengths)\n",
    "\n",
    "    _X = np.zeros((num_examples, num_kernels * 1), dtype = np.float64) # 2 features per kernel\n",
    "\n",
    "    for i in prange(num_examples):\n",
    "\n",
    "        a1 = 0 # for weights\n",
    "        a2 = 0 # for features\n",
    "\n",
    "        for j in range(num_kernels):\n",
    "\n",
    "            b1 = a1 + lengths[j]\n",
    "            b2 = a2 + 2\n",
    "\n",
    "            _X[i, a2:b2] = \\\n",
    "            apply_kernel(X[i], weights[a1:b1], lengths[j], biases[j], dilations[j], paddings[j])\n",
    "\n",
    "            a1 = b1\n",
    "            a2 = b2\n",
    "\n",
    "    return _X\n",
    "\n",
    "# Normalize the data\n",
    "def normalize_data(X):\n",
    "    mean = X.mean(axis=-1, keepdims=True)\n",
    "    std = X.std(axis=-1, keepdims=True) + 1e-8\n",
    "    return (X - mean) / std\n",
    "\n"
   ]
  },
  {
   "cell_type": "code",
   "execution_count": 4,
   "metadata": {},
   "outputs": [],
   "source": [
    "files = [\"data/non_alc_curves.csv\"] \n",
    "df2=pre_processing(files)"
   ]
  },
  {
   "cell_type": "markdown",
   "metadata": {},
   "source": [
    "##### Original dataset: 60 observations per sec \n",
    "- d_30: 30 per sec (drop every other row)\\\\\n",
    "- d_20: 20 per sec (drop every 3th row )\n",
    "- d_10: 10 per sec (drop every 6th row )"
   ]
  },
  {
   "cell_type": "code",
   "execution_count": 5,
   "metadata": {},
   "outputs": [],
   "source": [
    "def cut_timesteps(dataset, n):\n",
    "    dataframe = dataset.copy()  \n",
    "    for k in range(len(dataframe)):\n",
    "        if k % 2 == 0:  \n",
    "            data = dataframe[k]\n",
    "            data_reshaped = data.reshape(data.shape[0], data.shape[1], -1, n)\n",
    "            dataframe[k] = data_reshaped.mean(axis=-1)\n",
    "        else:\n",
    "            if len(dataframe[k].shape) == 1:  \n",
    "                dataframe[k] = dataframe[k]\n",
    "            else:\n",
    "                dataframe[k] = dataframe[k]  \n",
    "                \n",
    "\n",
    "    data_reshaped_x_train = normalize_data(dataframe[0].reshape(dataframe[0].shape[0], -1))\n",
    "    data_reshaped_y_train = dataframe[1].reshape(dataframe[1].shape[0], -1)\n",
    "    data_reshaped_x_test = normalize_data(dataframe[2].reshape(dataframe[2].shape[0], -1))\n",
    "    data_reshaped_y_test = dataframe[3].reshape(dataframe[3].shape[0], -1)\n",
    "    \n",
    "    dataframe[0] = data_reshaped_x_train\n",
    "    dataframe[1] = data_reshaped_y_train\n",
    "    dataframe[2] = data_reshaped_x_test\n",
    "    dataframe[3] = data_reshaped_y_test\n",
    "    \n",
    "    return dataframe"
   ]
  },
  {
   "cell_type": "code",
   "execution_count": 38,
   "metadata": {},
   "outputs": [],
   "source": [
    "df_60=cut_timesteps(df2,1)\n",
    "df_30=cut_timesteps(df2,2)\n",
    "df_20=cut_timesteps(df2,3)\n",
    "df_10=cut_timesteps(df2,6)\n",
    "\n",
    "\n",
    "with open(\"df_60.pkl\", \"wb\") as f:\n",
    "    pickle.dump(df_60, f)\n",
    "\n",
    "with open(\"df_30.pkl\", \"wb\") as f:\n",
    "    pickle.dump(df_30, f)\n",
    "\n",
    "with open(\"df_20.pkl\", \"wb\") as f:\n",
    "    pickle.dump(df_20, f)\n",
    "with open(\"df_10.pkl\", \"wb\") as f:\n",
    "    pickle.dump(df_10, f)\n",
    "#all normalized\n",
    "vec_datas=[df_60,df_30,df_20,df_10]\n",
    "vec_datas_size=[60,30,20,10]"
   ]
  },
  {
   "cell_type": "code",
   "execution_count": 39,
   "metadata": {},
   "outputs": [],
   "source": [
    "## Opening files later\n",
    "with open(\"df_60.pkl\", \"wb\") as f:\n",
    "    pickle.dump(df_60, f)\n",
    "\n",
    "with open(\"df_30.pkl\", \"wb\") as f:\n",
    "    pickle.dump(df_30, f)\n",
    "\n",
    "with open(\"df_20.pkl\", \"wb\") as f:\n",
    "    pickle.dump(df_20, f)\n",
    "\n",
    "with open(\"df_10.pkl\", \"wb\") as f:\n",
    "    pickle.dump(df_10, f) \n"
   ]
  },
  {
   "cell_type": "code",
   "execution_count": 208,
   "metadata": {},
   "outputs": [],
   "source": [
    "\n",
    "\n",
    "def background(f):\n",
    "    def wrapped(*args, **kwargs):\n",
    "        return asyncio.get_event_loop().run_in_executor(None, f, *args, **kwargs)\n",
    "\n",
    "    return wrapped\n",
    "\n",
    "warnings.filterwarnings(action='ignore')\n",
    "\n",
    "# Define kernel sizes\n",
    "kernels_sizes = [\n",
    "    np.array((7, 9, 11), dtype=np.int32),  # default lengths\n",
    "    np.array((15, 15, 15), dtype=np.int32),\n",
    "    np.array((20, 20, 20), dtype=np.int32),\n",
    "    np.array((30, 30, 30), dtype=np.int32),\n",
    "    np.array((35, 35, 35), dtype=np.int32),\n",
    "    np.array((40, 40, 40), dtype=np.int32),\n",
    "    np.array((45, 45, 45), dtype=np.int32),\n",
    "    np.array((60, 60, 60), dtype=np.int32),\n",
    "    np.array((70, 70, 70), dtype=np.int32),\n",
    "    np.array((80, 80, 80), dtype=np.int32),\n",
    "    np.array((120, 120, 120), dtype=np.int32)\n",
    "    # np.array((360, 360, 360), dtype=np.int32),\n",
    "]\n",
    "# Define penalization models\n",
    "penalization_models = [\n",
    "    # GradientBoostingClassifier(n_estimators=100, learning_rate=0.1)\n",
    "    # lgb.LGBMClassifier()\n",
    "    XGBClassifier()\n",
    "    # RandomForestClassifier(max_depth=5, n_estimators=10, max_features=1, random_state=42)\n",
    "]\n",
    "\n",
    "\n",
    "results_info=[]\n",
    "\n",
    "trials=100\n",
    "for h in range(trials):\n",
    "    for j in range(len(vec_datas)):\n",
    "        # Generate kernels for all models\n",
    "        # print(\"data number:\",vec_datas_size[j])\n",
    "        kernels = [generate_kernelss(vec_datas[j][0].shape[-1], num_kernels=100, kernel_len=k) for k in kernels_sizes]\n",
    "        for model in penalization_models:\n",
    "            # print(type(model).__name__)\n",
    "            for i in range(len(kernels_sizes)):\n",
    "                X_training_transform = apply_kernels((vec_datas[j][0]).astype(np.float64), kernels[i])\n",
    "                model.fit(X_training_transform, vec_datas[j][1])\n",
    "                X_test_transform = apply_kernels(vec_datas[j][2].astype(np.float64), kernels[i])\n",
    "                predictions = model.predict(X_test_transform)\n",
    "                probabilities=model.predict_proba(X_test_transform)\n",
    "                # print(\"  Kernel length:\", kernels_sizes[i], \"F1-score:\",  np.round(f1_score(vec_datas[j][3], predictions, average='macro'),3), \"Accuracy:\", np.round(accuracy_score(vec_datas[j][3], predictions), 3))\n",
    "                #feeding dict\n",
    "                results_dict = {\n",
    "                \"frames_per_sec\":vec_datas_size[j],\n",
    "                \"Kernel_length\":  kernels_sizes[i],\n",
    "                # \"f_1\":f1_score(vec_datas[j][3], predictions, average='macro'),\n",
    "                \"accuracy\": accuracy_score(vec_datas[j][3], predictions),\n",
    "                \"AUC\":metrics.roc_auc_score(vec_datas[j][3], probabilities[:,1]),\n",
    "                \"n_kernels\": 100,\n",
    "                \"final_classifier\": type(model).__name__}\n",
    "                results_info.append(results_dict)\n",
    "ressults_info_df = pd.DataFrame(results_info)\n",
    "# fun_run_parallel()\n"
   ]
  },
  {
   "cell_type": "markdown",
   "metadata": {},
   "source": [
    "Saving simulations"
   ]
  },
  {
   "cell_type": "code",
   "execution_count": null,
   "metadata": {},
   "outputs": [],
   "source": [
    "\n",
    "# ressults_info_df.to_pickle(\"results/results_100k_100i_xgb_auc.pkl\")\n",
    "# ressults_info_df.to_pickle(\"results/results_100k_100i_RandForest.pkl\")\n",
    "# ressults_info_df.to_pickle(\"results_100k_100i_logictic_auc_Uwave.pkl\")"
   ]
  },
  {
   "cell_type": "markdown",
   "metadata": {},
   "source": [
    "Reading pre-loeaded simulations"
   ]
  },
  {
   "cell_type": "code",
   "execution_count": 22,
   "metadata": {},
   "outputs": [],
   "source": [
    "# ressults_info_df = pd.read_pickle(r'results/results_100k_100i_xgb_auc.pkl')\n",
    "# ressults_info_df = pd.read_pickle(r'results/results_100k_100i_RandForest.pkl')\n",
    "ressults_info_df = pd.read_pickle(r'/Users/viniciusono/ML-research/kernel_size_exploration/results/results_100k_100i_logictic_auc_Uwave.pkl')"
   ]
  },
  {
   "cell_type": "code",
   "execution_count": 23,
   "metadata": {},
   "outputs": [
    {
     "data": {
      "text/html": [
       "<div>\n",
       "<style scoped>\n",
       "    .dataframe tbody tr th:only-of-type {\n",
       "        vertical-align: middle;\n",
       "    }\n",
       "\n",
       "    .dataframe tbody tr th {\n",
       "        vertical-align: top;\n",
       "    }\n",
       "\n",
       "    .dataframe thead th {\n",
       "        text-align: right;\n",
       "    }\n",
       "</style>\n",
       "<table border=\"1\" class=\"dataframe\">\n",
       "  <thead>\n",
       "    <tr style=\"text-align: right;\">\n",
       "      <th></th>\n",
       "      <th>frames_per_sec</th>\n",
       "      <th>Kernel_length</th>\n",
       "      <th>accuracy/score</th>\n",
       "      <th>AUC</th>\n",
       "      <th>n_kernels</th>\n",
       "      <th>final_classifier</th>\n",
       "    </tr>\n",
       "  </thead>\n",
       "  <tbody>\n",
       "    <tr>\n",
       "      <th>0</th>\n",
       "      <td>1</td>\n",
       "      <td>(7,9,11)</td>\n",
       "      <td>0.869347</td>\n",
       "      <td>0.985719</td>\n",
       "      <td>100</td>\n",
       "      <td>Logistic</td>\n",
       "    </tr>\n",
       "    <tr>\n",
       "      <th>1</th>\n",
       "      <td>1</td>\n",
       "      <td>15</td>\n",
       "      <td>0.876326</td>\n",
       "      <td>0.983509</td>\n",
       "      <td>100</td>\n",
       "      <td>Logistic</td>\n",
       "    </tr>\n",
       "    <tr>\n",
       "      <th>2</th>\n",
       "      <td>1</td>\n",
       "      <td>20</td>\n",
       "      <td>0.895868</td>\n",
       "      <td>0.989451</td>\n",
       "      <td>100</td>\n",
       "      <td>Logistic</td>\n",
       "    </tr>\n",
       "    <tr>\n",
       "      <th>3</th>\n",
       "      <td>1</td>\n",
       "      <td>30</td>\n",
       "      <td>0.879118</td>\n",
       "      <td>0.985348</td>\n",
       "      <td>100</td>\n",
       "      <td>Logistic</td>\n",
       "    </tr>\n",
       "    <tr>\n",
       "      <th>4</th>\n",
       "      <td>1</td>\n",
       "      <td>35</td>\n",
       "      <td>0.875209</td>\n",
       "      <td>0.984993</td>\n",
       "      <td>100</td>\n",
       "      <td>Logistic</td>\n",
       "    </tr>\n",
       "    <tr>\n",
       "      <th>...</th>\n",
       "      <td>...</td>\n",
       "      <td>...</td>\n",
       "      <td>...</td>\n",
       "      <td>...</td>\n",
       "      <td>...</td>\n",
       "      <td>...</td>\n",
       "    </tr>\n",
       "    <tr>\n",
       "      <th>4395</th>\n",
       "      <td>6</td>\n",
       "      <td>45</td>\n",
       "      <td>0.155500</td>\n",
       "      <td>0.674339</td>\n",
       "      <td>100</td>\n",
       "      <td>Logistic</td>\n",
       "    </tr>\n",
       "    <tr>\n",
       "      <th>4396</th>\n",
       "      <td>6</td>\n",
       "      <td>60</td>\n",
       "      <td>0.194584</td>\n",
       "      <td>0.666669</td>\n",
       "      <td>100</td>\n",
       "      <td>Logistic</td>\n",
       "    </tr>\n",
       "    <tr>\n",
       "      <th>4397</th>\n",
       "      <td>6</td>\n",
       "      <td>70</td>\n",
       "      <td>0.218035</td>\n",
       "      <td>0.669339</td>\n",
       "      <td>100</td>\n",
       "      <td>Logistic</td>\n",
       "    </tr>\n",
       "    <tr>\n",
       "      <th>4398</th>\n",
       "      <td>6</td>\n",
       "      <td>80</td>\n",
       "      <td>0.256561</td>\n",
       "      <td>0.688707</td>\n",
       "      <td>100</td>\n",
       "      <td>Logistic</td>\n",
       "    </tr>\n",
       "    <tr>\n",
       "      <th>4399</th>\n",
       "      <td>6</td>\n",
       "      <td>120</td>\n",
       "      <td>0.252931</td>\n",
       "      <td>0.662879</td>\n",
       "      <td>100</td>\n",
       "      <td>Logistic</td>\n",
       "    </tr>\n",
       "  </tbody>\n",
       "</table>\n",
       "<p>4400 rows × 6 columns</p>\n",
       "</div>"
      ],
      "text/plain": [
       "      frames_per_sec Kernel_length  accuracy/score       AUC  n_kernels  \\\n",
       "0                  1      (7,9,11)        0.869347  0.985719        100   \n",
       "1                  1            15        0.876326  0.983509        100   \n",
       "2                  1            20        0.895868  0.989451        100   \n",
       "3                  1            30        0.879118  0.985348        100   \n",
       "4                  1            35        0.875209  0.984993        100   \n",
       "...              ...           ...             ...       ...        ...   \n",
       "4395               6            45        0.155500  0.674339        100   \n",
       "4396               6            60        0.194584  0.666669        100   \n",
       "4397               6            70        0.218035  0.669339        100   \n",
       "4398               6            80        0.256561  0.688707        100   \n",
       "4399               6           120        0.252931  0.662879        100   \n",
       "\n",
       "     final_classifier  \n",
       "0            Logistic  \n",
       "1            Logistic  \n",
       "2            Logistic  \n",
       "3            Logistic  \n",
       "4            Logistic  \n",
       "...               ...  \n",
       "4395         Logistic  \n",
       "4396         Logistic  \n",
       "4397         Logistic  \n",
       "4398         Logistic  \n",
       "4399         Logistic  \n",
       "\n",
       "[4400 rows x 6 columns]"
      ]
     },
     "execution_count": 23,
     "metadata": {},
     "output_type": "execute_result"
    }
   ],
   "source": [
    "ressults_info_df"
   ]
  },
  {
   "cell_type": "code",
   "execution_count": 30,
   "metadata": {},
   "outputs": [],
   "source": [
    "# Convert list of vectors to string representation\n",
    "ressults_info_df[\"Kernel_length\"]=ressults_info_df[\"Kernel_length\"].apply(lambda x: ''.join(map(str, x)))\n",
    "# Mapping dictionary\n",
    "kernel_length_mapping = {\n",
    "    '7911': \"(7,9,11)\",\n",
    "    '151515': \"15\",\n",
    "    '202020': \"20\",\n",
    "    '303030': \"30\",\n",
    "    '353535': \"35\",\n",
    "    '404040': \"40\",\n",
    "    '454545': \"45\",\n",
    "    '606060': \"60\",\n",
    "    '707070': \"70\",\n",
    "    '707070': \"70\",\n",
    "    '808080': \"80\",\n",
    "    '120120120': \"120\",\n",
    "}\n",
    "\n",
    "# Replace kernel lengths in the DataFrame\n",
    "ressults_info_df[\"Kernel_length\"] = ressults_info_df[\"Kernel_length\"].map(kernel_length_mapping)\n",
    "\n",
    "# Convert 'Kernel_length' to categorical with custom ordering\n",
    "ressults_info_df['Kernel_length'] = pd.Categorical(ressults_info_df['Kernel_length'], categories=list(kernel_length_mapping.values()), ordered=True)\n"
   ]
  },
  {
   "cell_type": "markdown",
   "metadata": {},
   "source": [
    "Plot simulations"
   ]
  },
  {
   "cell_type": "code",
   "execution_count": 25,
   "metadata": {},
   "outputs": [
    {
     "ename": "KeyError",
     "evalue": "'Column not found: accuracy'",
     "output_type": "error",
     "traceback": [
      "\u001b[0;31m---------------------------------------------------------------------------\u001b[0m",
      "\u001b[0;31mKeyError\u001b[0m                                  Traceback (most recent call last)",
      "\u001b[0;32m/var/folders/kf/td7j4pms337by229lpg8vb3m0000gn/T/ipykernel_84584/3499066911.py\u001b[0m in \u001b[0;36m<module>\u001b[0;34m\u001b[0m\n\u001b[1;32m      1\u001b[0m \u001b[0mgrouped_data\u001b[0m \u001b[0;34m=\u001b[0m \u001b[0mressults_info_df\u001b[0m\u001b[0;34m.\u001b[0m\u001b[0mgroupby\u001b[0m\u001b[0;34m(\u001b[0m\u001b[0;34m[\u001b[0m\u001b[0;34m'frames_per_sec'\u001b[0m\u001b[0;34m,\u001b[0m \u001b[0;34m'Kernel_length'\u001b[0m\u001b[0;34m]\u001b[0m\u001b[0;34m)\u001b[0m\u001b[0;34m\u001b[0m\u001b[0;34m\u001b[0m\u001b[0m\n\u001b[1;32m      2\u001b[0m \u001b[0;34m\u001b[0m\u001b[0m\n\u001b[0;32m----> 3\u001b[0;31m \u001b[0mavg_accuracies\u001b[0m \u001b[0;34m=\u001b[0m \u001b[0mgrouped_data\u001b[0m\u001b[0;34m[\u001b[0m\u001b[0;34m'accuracy'\u001b[0m\u001b[0;34m]\u001b[0m\u001b[0;34m.\u001b[0m\u001b[0mmean\u001b[0m\u001b[0;34m(\u001b[0m\u001b[0;34m)\u001b[0m\u001b[0;34m.\u001b[0m\u001b[0mreset_index\u001b[0m\u001b[0;34m(\u001b[0m\u001b[0;34m)\u001b[0m\u001b[0;34m\u001b[0m\u001b[0;34m\u001b[0m\u001b[0m\n\u001b[0m\u001b[1;32m      4\u001b[0m \u001b[0mconf_intervals\u001b[0m \u001b[0;34m=\u001b[0m \u001b[0mgrouped_data\u001b[0m\u001b[0;34m[\u001b[0m\u001b[0;34m'accuracy'\u001b[0m\u001b[0;34m]\u001b[0m\u001b[0;34m.\u001b[0m\u001b[0mapply\u001b[0m\u001b[0;34m(\u001b[0m\u001b[0;32mlambda\u001b[0m \u001b[0mx\u001b[0m\u001b[0;34m:\u001b[0m \u001b[0;36m1.96\u001b[0m \u001b[0;34m*\u001b[0m \u001b[0msem\u001b[0m\u001b[0;34m(\u001b[0m\u001b[0mx\u001b[0m\u001b[0;34m)\u001b[0m\u001b[0;34m)\u001b[0m\u001b[0;34m.\u001b[0m\u001b[0munstack\u001b[0m\u001b[0;34m(\u001b[0m\u001b[0;34m)\u001b[0m\u001b[0;34m\u001b[0m\u001b[0;34m\u001b[0m\u001b[0m\n\u001b[1;32m      5\u001b[0m \u001b[0;34m\u001b[0m\u001b[0m\n",
      "\u001b[0;32m/Applications/anaconda3/lib/python3.9/site-packages/pandas/core/groupby/generic.py\u001b[0m in \u001b[0;36m__getitem__\u001b[0;34m(self, key)\u001b[0m\n\u001b[1;32m   1336\u001b[0m                 \u001b[0mstacklevel\u001b[0m\u001b[0;34m=\u001b[0m\u001b[0mfind_stack_level\u001b[0m\u001b[0;34m(\u001b[0m\u001b[0;34m)\u001b[0m\u001b[0;34m,\u001b[0m\u001b[0;34m\u001b[0m\u001b[0;34m\u001b[0m\u001b[0m\n\u001b[1;32m   1337\u001b[0m             )\n\u001b[0;32m-> 1338\u001b[0;31m         \u001b[0;32mreturn\u001b[0m \u001b[0msuper\u001b[0m\u001b[0;34m(\u001b[0m\u001b[0;34m)\u001b[0m\u001b[0;34m.\u001b[0m\u001b[0m__getitem__\u001b[0m\u001b[0;34m(\u001b[0m\u001b[0mkey\u001b[0m\u001b[0;34m)\u001b[0m\u001b[0;34m\u001b[0m\u001b[0;34m\u001b[0m\u001b[0m\n\u001b[0m\u001b[1;32m   1339\u001b[0m \u001b[0;34m\u001b[0m\u001b[0m\n\u001b[1;32m   1340\u001b[0m     \u001b[0;32mdef\u001b[0m \u001b[0m_gotitem\u001b[0m\u001b[0;34m(\u001b[0m\u001b[0mself\u001b[0m\u001b[0;34m,\u001b[0m \u001b[0mkey\u001b[0m\u001b[0;34m,\u001b[0m \u001b[0mndim\u001b[0m\u001b[0;34m:\u001b[0m \u001b[0mint\u001b[0m\u001b[0;34m,\u001b[0m \u001b[0msubset\u001b[0m\u001b[0;34m=\u001b[0m\u001b[0;32mNone\u001b[0m\u001b[0;34m)\u001b[0m\u001b[0;34m:\u001b[0m\u001b[0;34m\u001b[0m\u001b[0;34m\u001b[0m\u001b[0m\n",
      "\u001b[0;32m/Applications/anaconda3/lib/python3.9/site-packages/pandas/core/base.py\u001b[0m in \u001b[0;36m__getitem__\u001b[0;34m(self, key)\u001b[0m\n\u001b[1;32m    248\u001b[0m         \u001b[0;32melse\u001b[0m\u001b[0;34m:\u001b[0m\u001b[0;34m\u001b[0m\u001b[0;34m\u001b[0m\u001b[0m\n\u001b[1;32m    249\u001b[0m             \u001b[0;32mif\u001b[0m \u001b[0mkey\u001b[0m \u001b[0;32mnot\u001b[0m \u001b[0;32min\u001b[0m \u001b[0mself\u001b[0m\u001b[0;34m.\u001b[0m\u001b[0mobj\u001b[0m\u001b[0;34m:\u001b[0m\u001b[0;34m\u001b[0m\u001b[0;34m\u001b[0m\u001b[0m\n\u001b[0;32m--> 250\u001b[0;31m                 \u001b[0;32mraise\u001b[0m \u001b[0mKeyError\u001b[0m\u001b[0;34m(\u001b[0m\u001b[0;34mf\"Column not found: {key}\"\u001b[0m\u001b[0;34m)\u001b[0m\u001b[0;34m\u001b[0m\u001b[0;34m\u001b[0m\u001b[0m\n\u001b[0m\u001b[1;32m    251\u001b[0m             \u001b[0msubset\u001b[0m \u001b[0;34m=\u001b[0m \u001b[0mself\u001b[0m\u001b[0;34m.\u001b[0m\u001b[0mobj\u001b[0m\u001b[0;34m[\u001b[0m\u001b[0mkey\u001b[0m\u001b[0;34m]\u001b[0m\u001b[0;34m\u001b[0m\u001b[0;34m\u001b[0m\u001b[0m\n\u001b[1;32m    252\u001b[0m             \u001b[0mndim\u001b[0m \u001b[0;34m=\u001b[0m \u001b[0msubset\u001b[0m\u001b[0;34m.\u001b[0m\u001b[0mndim\u001b[0m\u001b[0;34m\u001b[0m\u001b[0;34m\u001b[0m\u001b[0m\n",
      "\u001b[0;31mKeyError\u001b[0m: 'Column not found: accuracy'"
     ]
    }
   ],
   "source": [
    "grouped_data = ressults_info_df.groupby(['frames_per_sec', 'Kernel_length'])\n",
    "\n",
    "avg_accuracies = grouped_data['accuracy'].mean().reset_index()\n",
    "conf_intervals = grouped_data['accuracy'].apply(lambda x: 1.96 * sem(x)).unstack()\n",
    "\n",
    "# Plotting\n",
    "fig, ax = plt.subplots(figsize=(10, 6))\n",
    "\n",
    "for fps, group in avg_accuracies.groupby('frames_per_sec'):\n",
    "    kernel_lengths = group['Kernel_length']\n",
    "    accuracies = group['accuracy']\n",
    "    yerr = conf_intervals.loc[fps]\n",
    "    ax.errorbar(kernel_lengths, accuracies, yerr=yerr, label=f'Frames per sec: {fps}', fmt='o', capsize=5, capthick=2, markeredgecolor='black', linestyle='-')\n",
    "\n",
    "ax.set_title('Average Accuracy with 95% Confidence Intervals vs. Kernel Length')\n",
    "ax.set_xlabel('Kernel Length')\n",
    "ax.set_ylabel('Average Accuracy')\n",
    "ax.legend(title='Frames per sec')\n",
    "\n",
    "plt.grid(True)\n",
    "plt.show()\n"
   ]
  },
  {
   "cell_type": "code",
   "execution_count": 32,
   "metadata": {},
   "outputs": [
    {
     "data": {
      "text/plain": [
       "<pandas.core.groupby.generic.DataFrameGroupBy object at 0x7faa6929cca0>"
      ]
     },
     "execution_count": 32,
     "metadata": {},
     "output_type": "execute_result"
    }
   ],
   "source": [
    "grouped_data"
   ]
  },
  {
   "cell_type": "code",
   "execution_count": 31,
   "metadata": {},
   "outputs": [
    {
     "name": "stderr",
     "output_type": "stream",
     "text": [
      "/Applications/anaconda3/lib/python3.9/site-packages/numpy/core/_methods.py:206: RuntimeWarning: Degrees of freedom <= 0 for slice\n",
      "  ret = _var(a, axis=axis, dtype=dtype, out=out, ddof=ddof,\n",
      "/Applications/anaconda3/lib/python3.9/site-packages/numpy/core/_methods.py:163: RuntimeWarning: invalid value encountered in divide\n",
      "  arrmean = um.true_divide(arrmean, div, out=arrmean,\n",
      "/Applications/anaconda3/lib/python3.9/site-packages/numpy/core/_methods.py:198: RuntimeWarning: invalid value encountered in scalar divide\n",
      "  ret = ret.dtype.type(ret / rcount)\n"
     ]
    },
    {
     "ename": "KeyError",
     "evalue": "1",
     "output_type": "error",
     "traceback": [
      "\u001b[0;31m---------------------------------------------------------------------------\u001b[0m",
      "\u001b[0;31mKeyError\u001b[0m                                  Traceback (most recent call last)",
      "\u001b[0;32m/Applications/anaconda3/lib/python3.9/site-packages/pandas/core/indexes/base.py\u001b[0m in \u001b[0;36mget_loc\u001b[0;34m(self, key, method, tolerance)\u001b[0m\n\u001b[1;32m   3628\u001b[0m             \u001b[0;32mtry\u001b[0m\u001b[0;34m:\u001b[0m\u001b[0;34m\u001b[0m\u001b[0;34m\u001b[0m\u001b[0m\n\u001b[0;32m-> 3629\u001b[0;31m                 \u001b[0;32mreturn\u001b[0m \u001b[0mself\u001b[0m\u001b[0;34m.\u001b[0m\u001b[0m_engine\u001b[0m\u001b[0;34m.\u001b[0m\u001b[0mget_loc\u001b[0m\u001b[0;34m(\u001b[0m\u001b[0mcasted_key\u001b[0m\u001b[0;34m)\u001b[0m\u001b[0;34m\u001b[0m\u001b[0;34m\u001b[0m\u001b[0m\n\u001b[0m\u001b[1;32m   3630\u001b[0m             \u001b[0;32mexcept\u001b[0m \u001b[0mKeyError\u001b[0m \u001b[0;32mas\u001b[0m \u001b[0merr\u001b[0m\u001b[0;34m:\u001b[0m\u001b[0;34m\u001b[0m\u001b[0;34m\u001b[0m\u001b[0m\n",
      "\u001b[0;32m/Applications/anaconda3/lib/python3.9/site-packages/pandas/_libs/index.pyx\u001b[0m in \u001b[0;36mpandas._libs.index.IndexEngine.get_loc\u001b[0;34m()\u001b[0m\n",
      "\u001b[0;32m/Applications/anaconda3/lib/python3.9/site-packages/pandas/_libs/index.pyx\u001b[0m in \u001b[0;36mpandas._libs.index.IndexEngine.get_loc\u001b[0;34m()\u001b[0m\n",
      "\u001b[0;32mpandas/_libs/hashtable_class_helper.pxi\u001b[0m in \u001b[0;36mpandas._libs.hashtable.Int64HashTable.get_item\u001b[0;34m()\u001b[0m\n",
      "\u001b[0;32mpandas/_libs/hashtable_class_helper.pxi\u001b[0m in \u001b[0;36mpandas._libs.hashtable.Int64HashTable.get_item\u001b[0;34m()\u001b[0m\n",
      "\u001b[0;31mKeyError\u001b[0m: 1",
      "\nThe above exception was the direct cause of the following exception:\n",
      "\u001b[0;31mKeyError\u001b[0m                                  Traceback (most recent call last)",
      "\u001b[0;32m/var/folders/kf/td7j4pms337by229lpg8vb3m0000gn/T/ipykernel_84584/1367999476.py\u001b[0m in \u001b[0;36m<module>\u001b[0;34m\u001b[0m\n\u001b[1;32m     10\u001b[0m     \u001b[0mkernel_lengths\u001b[0m \u001b[0;34m=\u001b[0m \u001b[0mgroup\u001b[0m\u001b[0;34m[\u001b[0m\u001b[0;34m'Kernel_length'\u001b[0m\u001b[0;34m]\u001b[0m\u001b[0;34m\u001b[0m\u001b[0;34m\u001b[0m\u001b[0m\n\u001b[1;32m     11\u001b[0m     \u001b[0maccuracies\u001b[0m \u001b[0;34m=\u001b[0m \u001b[0;36m1\u001b[0m\u001b[0;34m-\u001b[0m\u001b[0mgroup\u001b[0m\u001b[0;34m[\u001b[0m\u001b[0;34m'accuracy/score'\u001b[0m\u001b[0;34m]\u001b[0m\u001b[0;34m\u001b[0m\u001b[0;34m\u001b[0m\u001b[0m\n\u001b[0;32m---> 12\u001b[0;31m     \u001b[0myerr\u001b[0m \u001b[0;34m=\u001b[0m \u001b[0mconf_intervals\u001b[0m\u001b[0;34m.\u001b[0m\u001b[0mloc\u001b[0m\u001b[0;34m[\u001b[0m\u001b[0mfps\u001b[0m\u001b[0;34m]\u001b[0m\u001b[0;34m\u001b[0m\u001b[0;34m\u001b[0m\u001b[0m\n\u001b[0m\u001b[1;32m     13\u001b[0m     \u001b[0max\u001b[0m\u001b[0;34m.\u001b[0m\u001b[0merrorbar\u001b[0m\u001b[0;34m(\u001b[0m\u001b[0mkernel_lengths\u001b[0m\u001b[0;34m,\u001b[0m \u001b[0maccuracies\u001b[0m\u001b[0;34m,\u001b[0m \u001b[0myerr\u001b[0m\u001b[0;34m=\u001b[0m\u001b[0myerr\u001b[0m\u001b[0;34m,\u001b[0m \u001b[0mlabel\u001b[0m\u001b[0;34m=\u001b[0m\u001b[0;34mf'Frames per sec: {fps}'\u001b[0m\u001b[0;34m,\u001b[0m \u001b[0mfmt\u001b[0m\u001b[0;34m=\u001b[0m\u001b[0;34m'o'\u001b[0m\u001b[0;34m,\u001b[0m \u001b[0mcapsize\u001b[0m\u001b[0;34m=\u001b[0m\u001b[0;36m5\u001b[0m\u001b[0;34m,\u001b[0m \u001b[0mcapthick\u001b[0m\u001b[0;34m=\u001b[0m\u001b[0;36m2\u001b[0m\u001b[0;34m,\u001b[0m \u001b[0mmarkeredgecolor\u001b[0m\u001b[0;34m=\u001b[0m\u001b[0;34m'black'\u001b[0m\u001b[0;34m,\u001b[0m \u001b[0mlinestyle\u001b[0m\u001b[0;34m=\u001b[0m\u001b[0;34m'-'\u001b[0m\u001b[0;34m)\u001b[0m\u001b[0;34m\u001b[0m\u001b[0;34m\u001b[0m\u001b[0m\n\u001b[1;32m     14\u001b[0m \u001b[0;34m\u001b[0m\u001b[0m\n",
      "\u001b[0;32m/Applications/anaconda3/lib/python3.9/site-packages/pandas/core/indexing.py\u001b[0m in \u001b[0;36m__getitem__\u001b[0;34m(self, key)\u001b[0m\n\u001b[1;32m    965\u001b[0m \u001b[0;34m\u001b[0m\u001b[0m\n\u001b[1;32m    966\u001b[0m             \u001b[0mmaybe_callable\u001b[0m \u001b[0;34m=\u001b[0m \u001b[0mcom\u001b[0m\u001b[0;34m.\u001b[0m\u001b[0mapply_if_callable\u001b[0m\u001b[0;34m(\u001b[0m\u001b[0mkey\u001b[0m\u001b[0;34m,\u001b[0m \u001b[0mself\u001b[0m\u001b[0;34m.\u001b[0m\u001b[0mobj\u001b[0m\u001b[0;34m)\u001b[0m\u001b[0;34m\u001b[0m\u001b[0;34m\u001b[0m\u001b[0m\n\u001b[0;32m--> 967\u001b[0;31m             \u001b[0;32mreturn\u001b[0m \u001b[0mself\u001b[0m\u001b[0;34m.\u001b[0m\u001b[0m_getitem_axis\u001b[0m\u001b[0;34m(\u001b[0m\u001b[0mmaybe_callable\u001b[0m\u001b[0;34m,\u001b[0m \u001b[0maxis\u001b[0m\u001b[0;34m=\u001b[0m\u001b[0maxis\u001b[0m\u001b[0;34m)\u001b[0m\u001b[0;34m\u001b[0m\u001b[0;34m\u001b[0m\u001b[0m\n\u001b[0m\u001b[1;32m    968\u001b[0m \u001b[0;34m\u001b[0m\u001b[0m\n\u001b[1;32m    969\u001b[0m     \u001b[0;32mdef\u001b[0m \u001b[0m_is_scalar_access\u001b[0m\u001b[0;34m(\u001b[0m\u001b[0mself\u001b[0m\u001b[0;34m,\u001b[0m \u001b[0mkey\u001b[0m\u001b[0;34m:\u001b[0m \u001b[0mtuple\u001b[0m\u001b[0;34m)\u001b[0m\u001b[0;34m:\u001b[0m\u001b[0;34m\u001b[0m\u001b[0;34m\u001b[0m\u001b[0m\n",
      "\u001b[0;32m/Applications/anaconda3/lib/python3.9/site-packages/pandas/core/indexing.py\u001b[0m in \u001b[0;36m_getitem_axis\u001b[0;34m(self, key, axis)\u001b[0m\n\u001b[1;32m   1203\u001b[0m         \u001b[0;31m# fall thru to straight lookup\u001b[0m\u001b[0;34m\u001b[0m\u001b[0;34m\u001b[0m\u001b[0m\n\u001b[1;32m   1204\u001b[0m         \u001b[0mself\u001b[0m\u001b[0;34m.\u001b[0m\u001b[0m_validate_key\u001b[0m\u001b[0;34m(\u001b[0m\u001b[0mkey\u001b[0m\u001b[0;34m,\u001b[0m \u001b[0maxis\u001b[0m\u001b[0;34m)\u001b[0m\u001b[0;34m\u001b[0m\u001b[0;34m\u001b[0m\u001b[0m\n\u001b[0;32m-> 1205\u001b[0;31m         \u001b[0;32mreturn\u001b[0m \u001b[0mself\u001b[0m\u001b[0;34m.\u001b[0m\u001b[0m_get_label\u001b[0m\u001b[0;34m(\u001b[0m\u001b[0mkey\u001b[0m\u001b[0;34m,\u001b[0m \u001b[0maxis\u001b[0m\u001b[0;34m=\u001b[0m\u001b[0maxis\u001b[0m\u001b[0;34m)\u001b[0m\u001b[0;34m\u001b[0m\u001b[0;34m\u001b[0m\u001b[0m\n\u001b[0m\u001b[1;32m   1206\u001b[0m \u001b[0;34m\u001b[0m\u001b[0m\n\u001b[1;32m   1207\u001b[0m     \u001b[0;32mdef\u001b[0m \u001b[0m_get_slice_axis\u001b[0m\u001b[0;34m(\u001b[0m\u001b[0mself\u001b[0m\u001b[0;34m,\u001b[0m \u001b[0mslice_obj\u001b[0m\u001b[0;34m:\u001b[0m \u001b[0mslice\u001b[0m\u001b[0;34m,\u001b[0m \u001b[0maxis\u001b[0m\u001b[0;34m:\u001b[0m \u001b[0mint\u001b[0m\u001b[0;34m)\u001b[0m\u001b[0;34m:\u001b[0m\u001b[0;34m\u001b[0m\u001b[0;34m\u001b[0m\u001b[0m\n",
      "\u001b[0;32m/Applications/anaconda3/lib/python3.9/site-packages/pandas/core/indexing.py\u001b[0m in \u001b[0;36m_get_label\u001b[0;34m(self, label, axis)\u001b[0m\n\u001b[1;32m   1151\u001b[0m     \u001b[0;32mdef\u001b[0m \u001b[0m_get_label\u001b[0m\u001b[0;34m(\u001b[0m\u001b[0mself\u001b[0m\u001b[0;34m,\u001b[0m \u001b[0mlabel\u001b[0m\u001b[0;34m,\u001b[0m \u001b[0maxis\u001b[0m\u001b[0;34m:\u001b[0m \u001b[0mint\u001b[0m\u001b[0;34m)\u001b[0m\u001b[0;34m:\u001b[0m\u001b[0;34m\u001b[0m\u001b[0;34m\u001b[0m\u001b[0m\n\u001b[1;32m   1152\u001b[0m         \u001b[0;31m# GH#5667 this will fail if the label is not present in the axis.\u001b[0m\u001b[0;34m\u001b[0m\u001b[0;34m\u001b[0m\u001b[0m\n\u001b[0;32m-> 1153\u001b[0;31m         \u001b[0;32mreturn\u001b[0m \u001b[0mself\u001b[0m\u001b[0;34m.\u001b[0m\u001b[0mobj\u001b[0m\u001b[0;34m.\u001b[0m\u001b[0mxs\u001b[0m\u001b[0;34m(\u001b[0m\u001b[0mlabel\u001b[0m\u001b[0;34m,\u001b[0m \u001b[0maxis\u001b[0m\u001b[0;34m=\u001b[0m\u001b[0maxis\u001b[0m\u001b[0;34m)\u001b[0m\u001b[0;34m\u001b[0m\u001b[0;34m\u001b[0m\u001b[0m\n\u001b[0m\u001b[1;32m   1154\u001b[0m \u001b[0;34m\u001b[0m\u001b[0m\n\u001b[1;32m   1155\u001b[0m     \u001b[0;32mdef\u001b[0m \u001b[0m_handle_lowerdim_multi_index_axis0\u001b[0m\u001b[0;34m(\u001b[0m\u001b[0mself\u001b[0m\u001b[0;34m,\u001b[0m \u001b[0mtup\u001b[0m\u001b[0;34m:\u001b[0m \u001b[0mtuple\u001b[0m\u001b[0;34m)\u001b[0m\u001b[0;34m:\u001b[0m\u001b[0;34m\u001b[0m\u001b[0;34m\u001b[0m\u001b[0m\n",
      "\u001b[0;32m/Applications/anaconda3/lib/python3.9/site-packages/pandas/core/generic.py\u001b[0m in \u001b[0;36mxs\u001b[0;34m(self, key, axis, level, drop_level)\u001b[0m\n\u001b[1;32m   3862\u001b[0m                     \u001b[0mnew_index\u001b[0m \u001b[0;34m=\u001b[0m \u001b[0mindex\u001b[0m\u001b[0;34m[\u001b[0m\u001b[0mloc\u001b[0m\u001b[0;34m]\u001b[0m\u001b[0;34m\u001b[0m\u001b[0;34m\u001b[0m\u001b[0m\n\u001b[1;32m   3863\u001b[0m         \u001b[0;32melse\u001b[0m\u001b[0;34m:\u001b[0m\u001b[0;34m\u001b[0m\u001b[0;34m\u001b[0m\u001b[0m\n\u001b[0;32m-> 3864\u001b[0;31m             \u001b[0mloc\u001b[0m \u001b[0;34m=\u001b[0m \u001b[0mindex\u001b[0m\u001b[0;34m.\u001b[0m\u001b[0mget_loc\u001b[0m\u001b[0;34m(\u001b[0m\u001b[0mkey\u001b[0m\u001b[0;34m)\u001b[0m\u001b[0;34m\u001b[0m\u001b[0;34m\u001b[0m\u001b[0m\n\u001b[0m\u001b[1;32m   3865\u001b[0m \u001b[0;34m\u001b[0m\u001b[0m\n\u001b[1;32m   3866\u001b[0m             \u001b[0;32mif\u001b[0m \u001b[0misinstance\u001b[0m\u001b[0;34m(\u001b[0m\u001b[0mloc\u001b[0m\u001b[0;34m,\u001b[0m \u001b[0mnp\u001b[0m\u001b[0;34m.\u001b[0m\u001b[0mndarray\u001b[0m\u001b[0;34m)\u001b[0m\u001b[0;34m:\u001b[0m\u001b[0;34m\u001b[0m\u001b[0;34m\u001b[0m\u001b[0m\n",
      "\u001b[0;32m/Applications/anaconda3/lib/python3.9/site-packages/pandas/core/indexes/base.py\u001b[0m in \u001b[0;36mget_loc\u001b[0;34m(self, key, method, tolerance)\u001b[0m\n\u001b[1;32m   3629\u001b[0m                 \u001b[0;32mreturn\u001b[0m \u001b[0mself\u001b[0m\u001b[0;34m.\u001b[0m\u001b[0m_engine\u001b[0m\u001b[0;34m.\u001b[0m\u001b[0mget_loc\u001b[0m\u001b[0;34m(\u001b[0m\u001b[0mcasted_key\u001b[0m\u001b[0;34m)\u001b[0m\u001b[0;34m\u001b[0m\u001b[0;34m\u001b[0m\u001b[0m\n\u001b[1;32m   3630\u001b[0m             \u001b[0;32mexcept\u001b[0m \u001b[0mKeyError\u001b[0m \u001b[0;32mas\u001b[0m \u001b[0merr\u001b[0m\u001b[0;34m:\u001b[0m\u001b[0;34m\u001b[0m\u001b[0;34m\u001b[0m\u001b[0m\n\u001b[0;32m-> 3631\u001b[0;31m                 \u001b[0;32mraise\u001b[0m \u001b[0mKeyError\u001b[0m\u001b[0;34m(\u001b[0m\u001b[0mkey\u001b[0m\u001b[0;34m)\u001b[0m \u001b[0;32mfrom\u001b[0m \u001b[0merr\u001b[0m\u001b[0;34m\u001b[0m\u001b[0;34m\u001b[0m\u001b[0m\n\u001b[0m\u001b[1;32m   3632\u001b[0m             \u001b[0;32mexcept\u001b[0m \u001b[0mTypeError\u001b[0m\u001b[0;34m:\u001b[0m\u001b[0;34m\u001b[0m\u001b[0;34m\u001b[0m\u001b[0m\n\u001b[1;32m   3633\u001b[0m                 \u001b[0;31m# If we have a listlike key, _check_indexing_error will raise\u001b[0m\u001b[0;34m\u001b[0m\u001b[0;34m\u001b[0m\u001b[0m\n",
      "\u001b[0;31mKeyError\u001b[0m: 1"
     ]
    },
    {
     "data": {
      "image/png": "[encoded data removed]",
      "text/plain": [
       "<Figure size 1000x600 with 1 Axes>"
      ]
     },
     "metadata": {},
     "output_type": "display_data"
    }
   ],
   "source": [
    "\n",
    "grouped_data = ressults_info_df.groupby(['frames_per_sec', 'Kernel_length'])\n",
    "\n",
    "avg_accuracies = grouped_data['AUC'].mean().reset_index()\n",
    "conf_intervals = grouped_data['AUC'].apply(lambda x: 1.96 * sem(x)).unstack()\n",
    "\n",
    "# Plotting\n",
    "fig, ax = plt.subplots(figsize=(10, 6))\n",
    "\n",
    "for fps, group in avg_accuracies.groupby('frames_per_sec'):\n",
    "    kernel_lengths = group['Kernel_length']\n",
    "    accuracies = 1-group['AUC']\n",
    "    yerr = conf_intervals.loc[fps]\n",
    "    ax.errorbar(kernel_lengths, accuracies, yerr=yerr, label=f'Frames per sec: {fps}', fmt='o', capsize=5, capthick=2, markeredgecolor='black', linestyle='-')\n",
    "\n",
    "ax.set_title('AUC 95% Confidence Intervals vs. Kernel Length (100 simulations each permutation )')\n",
    "ax.set_xlabel('Kernel Length')\n",
    "ax.set_ylabel('Average Accuracy')\n",
    "ax.legend(title='Frames per sec')\n",
    "\n",
    "plt.grid(True)\n",
    "plt.show()\n"
   ]
  },
  {
   "cell_type": "markdown",
   "metadata": {},
   "source": [
    "Using different dataset (here from UCR)"
   ]
  },
  {
   "cell_type": "code",
   "execution_count": 20,
   "metadata": {},
   "outputs": [],
   "source": [
    "# Load training data\n",
    "training_data = np.loadtxt(\"./UWaveGestureLibraryAll/UWaveGestureLibraryAll_TRAIN.txt\")\n",
    "Y_training, X_training = training_data[:, 0].astype(np.int32), training_data[:, 1:]\n",
    "\n",
    "# Load test data\n",
    "test_data = np.loadtxt(\"./UWaveGestureLibraryAll/UWaveGestureLibraryAll_TEST.txt\")\n",
    "Y_test, X_test = test_data[:, 0].astype(np.int32), test_data[:, 1:]\n"
   ]
  },
  {
   "cell_type": "code",
   "execution_count": null,
   "metadata": {},
   "outputs": [],
   "source": [
    "\n",
    "kernels = generate_kernelss(X_training.shape[-1], 100000,np.array((7, 9, 11), dtype=np.int32))\n",
    "X_training_transform = apply_kernels(X_training, kernels)\n",
    "X_test_transform = apply_kernels(X_test, kernels)"
   ]
  },
  {
   "cell_type": "code",
   "execution_count": 442,
   "metadata": {},
   "outputs": [
    {
     "name": "stdout",
     "output_type": "stream",
     "text": [
      "Confusion Matrix:\n",
      "[[429   0   0   0   0   6   0   2]\n",
      " [  1 451   0   0   0   0   0   0]\n",
      " [  2   0 432   0   9   9   1   1]\n",
      " [  3   0   2 421  20   4   0   0]\n",
      " [  5   0   6   1 418   2   0   1]\n",
      " [  4   0   4   4  26 409   0   2]\n",
      " [  2   0   1   0   0   0 444   0]\n",
      " [  0   0   2   5   0   0   0 453]]\n"
     ]
    }
   ],
   "source": [
    "from sklearn.metrics import confusion_matrix\n",
    "from sklearn.linear_model import LogisticRegressionCV\n",
    "\n",
    "# Assuming 'classifier' is already trained\n",
    "classifier = LogisticRegressionCV()\n",
    "classifier.fit(X_training_transform, Y_training)\n",
    "print(classifier.score(X_test_transform, Y_test))\n",
    "predictions = classifier.predict(X_test_transform)\n",
    "\n",
    "# Calculate and print the confusion matrix\n",
    "conf_matrix = confusion_matrix(Y_test, predictions)\n",
    "print(\"Confusion Matrix:\")\n",
    "print(conf_matrix)\n"
   ]
  },
  {
   "cell_type": "code",
   "execution_count": 443,
   "metadata": {},
   "outputs": [
    {
     "name": "stdout",
     "output_type": "stream",
     "text": [
      "0.9651032942490229\n"
     ]
    }
   ],
   "source": [
    "print(classifier.score(X_test_transform, Y_test))"
   ]
  },
  {
   "cell_type": "code",
   "execution_count": 444,
   "metadata": {},
   "outputs": [
    {
     "name": "stdout",
     "output_type": "stream",
     "text": [
      "Best alpha: 0.1\n",
      "Accuracy: 0.954215522054718\n",
      "Confusion Matrix:\n",
      "[[422   0   0   2   0  13   0   0]\n",
      " [  1 448   0   0   0   1   1   1]\n",
      " [  1   2 429   0   3  16   2   1]\n",
      " [  3   0   1 408  19  15   0   4]\n",
      " [  3   2   7   1 417   2   0   1]\n",
      " [  5   0   4  12  28 399   0   1]\n",
      " [  2   0   1   2   0   2 439   1]\n",
      " [  0   0   1   3   0   0   0 456]]\n"
     ]
    }
   ],
   "source": [
    "warnings.filterwarnings('ignore')\n",
    "\n",
    "\n",
    "\n",
    "pipeline = Pipeline([\n",
    "    ('feature_selection', SelectFdr(chi2)),\n",
    "    ('classifier', LogisticRegressionCV())\n",
    "])\n",
    "\n",
    "\n",
    "param_grid = {\n",
    "    'feature_selection__alpha': [0.001, 0.02,0.01,0.05 ,0.1]  \n",
    "}\n",
    "\n",
    "# Perform grid search\n",
    "grid_search = GridSearchCV(pipeline, param_grid, cv=5, scoring='accuracy', n_jobs=-1)\n",
    "grid_search.fit(X_training_transform, Y_training)\n",
    "\n",
    "\n",
    "best_alpha = grid_search.best_params_['feature_selection__alpha']\n",
    "print(\"Best alpha:\", best_alpha)\n",
    "\n",
    "\n",
    "best_pipeline = grid_search.best_estimator_\n",
    "best_pipeline.fit(X_training_transform, Y_training)\n",
    "\n",
    "\n",
    "accuracy = best_pipeline.score(X_test_transform, Y_test)\n",
    "print(\"Accuracy:\", accuracy)\n",
    "predictions = best_pipeline.predict(X_test_transform)\n",
    "conf_matrix = confusion_matrix(Y_test, predictions)\n",
    "print(\"Confusion Matrix:\")\n",
    "print(conf_matrix)\n"
   ]
  },
  {
   "cell_type": "code",
   "execution_count": 416,
   "metadata": {},
   "outputs": [
    {
     "name": "stdout",
     "output_type": "stream",
     "text": [
      "0.5645161290322581\n"
     ]
    }
   ],
   "source": [
    "\n",
    "data_reshaped_x_train = normalize_data(df2[0].reshape(df2[0].shape[0], -1))\n",
    "data_reshaped_y_train = df2[1].reshape(df2[1].shape[0], -1)\n",
    "data_reshaped_x_test = normalize_data(df2[2].reshape(df2[2].shape[0], -1))\n",
    "data_reshaped_y_test = df2[3].reshape(df2[3].shape[0], -1)\n",
    "\n",
    "\n",
    "kernels = generate_kernelss(data_reshaped_x_train.shape[-1], 10000,np.array((7, 9, 11), dtype=np.int32))\n",
    "X_training_transform = apply_kernels(data_reshaped_x_train, kernels)\n",
    "X_test_transform = apply_kernels(data_reshaped_x_test, kernels)\n",
    "classifier = LogisticRegressionCV()\n",
    "classifier.fit(data_reshaped_x_train, data_reshaped_y_train)\n",
    "print(classifier.score(data_reshaped_x_test, data_reshaped_y_test))"
   ]
  },
  {
   "cell_type": "code",
   "execution_count": 418,
   "metadata": {},
   "outputs": [
    {
     "ename": "ValueError",
     "evalue": "Found array with 0 feature(s) (shape=(280, 0)) while a minimum of 1 is required by LogisticRegressionCV.",
     "output_type": "error",
     "traceback": [
      "\u001b[0;31m---------------------------------------------------------------------------\u001b[0m",
      "\u001b[0;31mValueError\u001b[0m                                Traceback (most recent call last)",
      "\u001b[0;32m/var/folders/kf/td7j4pms337by229lpg8vb3m0000gn/T/ipykernel_4301/760880026.py\u001b[0m in \u001b[0;36m<module>\u001b[0;34m\u001b[0m\n\u001b[1;32m     18\u001b[0m \u001b[0;34m\u001b[0m\u001b[0m\n\u001b[1;32m     19\u001b[0m \u001b[0;31m# Fit the pipeline\u001b[0m\u001b[0;34m\u001b[0m\u001b[0;34m\u001b[0m\u001b[0m\n\u001b[0;32m---> 20\u001b[0;31m \u001b[0mpipeline\u001b[0m\u001b[0;34m.\u001b[0m\u001b[0mfit\u001b[0m\u001b[0;34m(\u001b[0m\u001b[0mX_training_transform\u001b[0m\u001b[0;34m,\u001b[0m \u001b[0mdata_reshaped_y_train\u001b[0m\u001b[0;34m)\u001b[0m\u001b[0;34m\u001b[0m\u001b[0;34m\u001b[0m\u001b[0m\n\u001b[0m\u001b[1;32m     21\u001b[0m \u001b[0;34m\u001b[0m\u001b[0m\n\u001b[1;32m     22\u001b[0m \u001b[0;31m# Evaluate the model on test data\u001b[0m\u001b[0;34m\u001b[0m\u001b[0;34m\u001b[0m\u001b[0m\n",
      "\u001b[0;32m/Applications/anaconda3/lib/python3.9/site-packages/sklearn/base.py\u001b[0m in \u001b[0;36mwrapper\u001b[0;34m(estimator, *args, **kwargs)\u001b[0m\n\u001b[1;32m   1349\u001b[0m                 )\n\u001b[1;32m   1350\u001b[0m             ):\n\u001b[0;32m-> 1351\u001b[0;31m                 \u001b[0;32mreturn\u001b[0m \u001b[0mfit_method\u001b[0m\u001b[0;34m(\u001b[0m\u001b[0mestimator\u001b[0m\u001b[0;34m,\u001b[0m \u001b[0;34m*\u001b[0m\u001b[0margs\u001b[0m\u001b[0;34m,\u001b[0m \u001b[0;34m**\u001b[0m\u001b[0mkwargs\u001b[0m\u001b[0;34m)\u001b[0m\u001b[0;34m\u001b[0m\u001b[0;34m\u001b[0m\u001b[0m\n\u001b[0m\u001b[1;32m   1352\u001b[0m \u001b[0;34m\u001b[0m\u001b[0m\n\u001b[1;32m   1353\u001b[0m         \u001b[0;32mreturn\u001b[0m \u001b[0mwrapper\u001b[0m\u001b[0;34m\u001b[0m\u001b[0;34m\u001b[0m\u001b[0m\n",
      "\u001b[0;32m/Applications/anaconda3/lib/python3.9/site-packages/sklearn/pipeline.py\u001b[0m in \u001b[0;36mfit\u001b[0;34m(self, X, y, **params)\u001b[0m\n\u001b[1;32m    473\u001b[0m             \u001b[0;32mif\u001b[0m \u001b[0mself\u001b[0m\u001b[0;34m.\u001b[0m\u001b[0m_final_estimator\u001b[0m \u001b[0;34m!=\u001b[0m \u001b[0;34m\"passthrough\"\u001b[0m\u001b[0;34m:\u001b[0m\u001b[0;34m\u001b[0m\u001b[0;34m\u001b[0m\u001b[0m\n\u001b[1;32m    474\u001b[0m                 \u001b[0mlast_step_params\u001b[0m \u001b[0;34m=\u001b[0m \u001b[0mrouted_params\u001b[0m\u001b[0;34m[\u001b[0m\u001b[0mself\u001b[0m\u001b[0;34m.\u001b[0m\u001b[0msteps\u001b[0m\u001b[0;34m[\u001b[0m\u001b[0;34m-\u001b[0m\u001b[0;36m1\u001b[0m\u001b[0;34m]\u001b[0m\u001b[0;34m[\u001b[0m\u001b[0;36m0\u001b[0m\u001b[0;34m]\u001b[0m\u001b[0;34m]\u001b[0m\u001b[0;34m\u001b[0m\u001b[0;34m\u001b[0m\u001b[0m\n\u001b[0;32m--> 475\u001b[0;31m                 \u001b[0mself\u001b[0m\u001b[0;34m.\u001b[0m\u001b[0m_final_estimator\u001b[0m\u001b[0;34m.\u001b[0m\u001b[0mfit\u001b[0m\u001b[0;34m(\u001b[0m\u001b[0mXt\u001b[0m\u001b[0;34m,\u001b[0m \u001b[0my\u001b[0m\u001b[0;34m,\u001b[0m \u001b[0;34m**\u001b[0m\u001b[0mlast_step_params\u001b[0m\u001b[0;34m[\u001b[0m\u001b[0;34m\"fit\"\u001b[0m\u001b[0;34m]\u001b[0m\u001b[0;34m)\u001b[0m\u001b[0;34m\u001b[0m\u001b[0;34m\u001b[0m\u001b[0m\n\u001b[0m\u001b[1;32m    476\u001b[0m \u001b[0;34m\u001b[0m\u001b[0m\n\u001b[1;32m    477\u001b[0m         \u001b[0;32mreturn\u001b[0m \u001b[0mself\u001b[0m\u001b[0;34m\u001b[0m\u001b[0;34m\u001b[0m\u001b[0m\n",
      "\u001b[0;32m/Applications/anaconda3/lib/python3.9/site-packages/sklearn/base.py\u001b[0m in \u001b[0;36mwrapper\u001b[0;34m(estimator, *args, **kwargs)\u001b[0m\n\u001b[1;32m   1349\u001b[0m                 )\n\u001b[1;32m   1350\u001b[0m             ):\n\u001b[0;32m-> 1351\u001b[0;31m                 \u001b[0;32mreturn\u001b[0m \u001b[0mfit_method\u001b[0m\u001b[0;34m(\u001b[0m\u001b[0mestimator\u001b[0m\u001b[0;34m,\u001b[0m \u001b[0;34m*\u001b[0m\u001b[0margs\u001b[0m\u001b[0;34m,\u001b[0m \u001b[0;34m**\u001b[0m\u001b[0mkwargs\u001b[0m\u001b[0;34m)\u001b[0m\u001b[0;34m\u001b[0m\u001b[0;34m\u001b[0m\u001b[0m\n\u001b[0m\u001b[1;32m   1352\u001b[0m \u001b[0;34m\u001b[0m\u001b[0m\n\u001b[1;32m   1353\u001b[0m         \u001b[0;32mreturn\u001b[0m \u001b[0mwrapper\u001b[0m\u001b[0;34m\u001b[0m\u001b[0;34m\u001b[0m\u001b[0m\n",
      "\u001b[0;32m/Applications/anaconda3/lib/python3.9/site-packages/sklearn/linear_model/_logistic.py\u001b[0m in \u001b[0;36mfit\u001b[0;34m(self, X, y, sample_weight, **params)\u001b[0m\n\u001b[1;32m   1801\u001b[0m             \u001b[0ml1_ratios_\u001b[0m \u001b[0;34m=\u001b[0m \u001b[0;34m[\u001b[0m\u001b[0;32mNone\u001b[0m\u001b[0;34m]\u001b[0m\u001b[0;34m\u001b[0m\u001b[0;34m\u001b[0m\u001b[0m\n\u001b[1;32m   1802\u001b[0m \u001b[0;34m\u001b[0m\u001b[0m\n\u001b[0;32m-> 1803\u001b[0;31m         X, y = self._validate_data(\n\u001b[0m\u001b[1;32m   1804\u001b[0m             \u001b[0mX\u001b[0m\u001b[0;34m,\u001b[0m\u001b[0;34m\u001b[0m\u001b[0;34m\u001b[0m\u001b[0m\n\u001b[1;32m   1805\u001b[0m             \u001b[0my\u001b[0m\u001b[0;34m,\u001b[0m\u001b[0;34m\u001b[0m\u001b[0;34m\u001b[0m\u001b[0m\n",
      "\u001b[0;32m/Applications/anaconda3/lib/python3.9/site-packages/sklearn/base.py\u001b[0m in \u001b[0;36m_validate_data\u001b[0;34m(self, X, y, reset, validate_separately, cast_to_ndarray, **check_params)\u001b[0m\n\u001b[1;32m    648\u001b[0m                 \u001b[0my\u001b[0m \u001b[0;34m=\u001b[0m \u001b[0mcheck_array\u001b[0m\u001b[0;34m(\u001b[0m\u001b[0my\u001b[0m\u001b[0;34m,\u001b[0m \u001b[0minput_name\u001b[0m\u001b[0;34m=\u001b[0m\u001b[0;34m\"y\"\u001b[0m\u001b[0;34m,\u001b[0m \u001b[0;34m**\u001b[0m\u001b[0mcheck_y_params\u001b[0m\u001b[0;34m)\u001b[0m\u001b[0;34m\u001b[0m\u001b[0;34m\u001b[0m\u001b[0m\n\u001b[1;32m    649\u001b[0m             \u001b[0;32melse\u001b[0m\u001b[0;34m:\u001b[0m\u001b[0;34m\u001b[0m\u001b[0;34m\u001b[0m\u001b[0m\n\u001b[0;32m--> 650\u001b[0;31m                 \u001b[0mX\u001b[0m\u001b[0;34m,\u001b[0m \u001b[0my\u001b[0m \u001b[0;34m=\u001b[0m \u001b[0mcheck_X_y\u001b[0m\u001b[0;34m(\u001b[0m\u001b[0mX\u001b[0m\u001b[0;34m,\u001b[0m \u001b[0my\u001b[0m\u001b[0;34m,\u001b[0m \u001b[0;34m**\u001b[0m\u001b[0mcheck_params\u001b[0m\u001b[0;34m)\u001b[0m\u001b[0;34m\u001b[0m\u001b[0;34m\u001b[0m\u001b[0m\n\u001b[0m\u001b[1;32m    651\u001b[0m             \u001b[0mout\u001b[0m \u001b[0;34m=\u001b[0m \u001b[0mX\u001b[0m\u001b[0;34m,\u001b[0m \u001b[0my\u001b[0m\u001b[0;34m\u001b[0m\u001b[0;34m\u001b[0m\u001b[0m\n\u001b[1;32m    652\u001b[0m \u001b[0;34m\u001b[0m\u001b[0m\n",
      "\u001b[0;32m/Applications/anaconda3/lib/python3.9/site-packages/sklearn/utils/validation.py\u001b[0m in \u001b[0;36mcheck_X_y\u001b[0;34m(X, y, accept_sparse, accept_large_sparse, dtype, order, copy, force_all_finite, ensure_2d, allow_nd, multi_output, ensure_min_samples, ensure_min_features, y_numeric, estimator)\u001b[0m\n\u001b[1;32m   1190\u001b[0m         )\n\u001b[1;32m   1191\u001b[0m \u001b[0;34m\u001b[0m\u001b[0m\n\u001b[0;32m-> 1192\u001b[0;31m     X = check_array(\n\u001b[0m\u001b[1;32m   1193\u001b[0m         \u001b[0mX\u001b[0m\u001b[0;34m,\u001b[0m\u001b[0;34m\u001b[0m\u001b[0;34m\u001b[0m\u001b[0m\n\u001b[1;32m   1194\u001b[0m         \u001b[0maccept_sparse\u001b[0m\u001b[0;34m=\u001b[0m\u001b[0maccept_sparse\u001b[0m\u001b[0;34m,\u001b[0m\u001b[0;34m\u001b[0m\u001b[0;34m\u001b[0m\u001b[0m\n",
      "\u001b[0;32m/Applications/anaconda3/lib/python3.9/site-packages/sklearn/utils/validation.py\u001b[0m in \u001b[0;36mcheck_array\u001b[0;34m(array, accept_sparse, accept_large_sparse, dtype, order, copy, force_all_finite, ensure_2d, allow_nd, ensure_min_samples, ensure_min_features, estimator, input_name)\u001b[0m\n\u001b[1;32m   1033\u001b[0m         \u001b[0mn_features\u001b[0m \u001b[0;34m=\u001b[0m \u001b[0marray\u001b[0m\u001b[0;34m.\u001b[0m\u001b[0mshape\u001b[0m\u001b[0;34m[\u001b[0m\u001b[0;36m1\u001b[0m\u001b[0;34m]\u001b[0m\u001b[0;34m\u001b[0m\u001b[0;34m\u001b[0m\u001b[0m\n\u001b[1;32m   1034\u001b[0m         \u001b[0;32mif\u001b[0m \u001b[0mn_features\u001b[0m \u001b[0;34m<\u001b[0m \u001b[0mensure_min_features\u001b[0m\u001b[0;34m:\u001b[0m\u001b[0;34m\u001b[0m\u001b[0;34m\u001b[0m\u001b[0m\n\u001b[0;32m-> 1035\u001b[0;31m             raise ValueError(\n\u001b[0m\u001b[1;32m   1036\u001b[0m                 \u001b[0;34m\"Found array with %d feature(s) (shape=%s) while\"\u001b[0m\u001b[0;34m\u001b[0m\u001b[0;34m\u001b[0m\u001b[0m\n\u001b[1;32m   1037\u001b[0m                 \u001b[0;34m\" a minimum of %d is required%s.\"\u001b[0m\u001b[0;34m\u001b[0m\u001b[0;34m\u001b[0m\u001b[0m\n",
      "\u001b[0;31mValueError\u001b[0m: Found array with 0 feature(s) (shape=(280, 0)) while a minimum of 1 is required by LogisticRegressionCV."
     ]
    }
   ],
   "source": [
    "# Generate and apply kernels\n",
    "from sklearn.feature_selection import SelectFdr, chi2\n",
    "from sklearn.pipeline import Pipeline\n",
    "data_reshaped_x_train = normalize_data(df2[0].reshape(df2[0].shape[0], -1))\n",
    "data_reshaped_y_train = df2[1].reshape(df2[1].shape[0], -1)\n",
    "data_reshaped_x_test = normalize_data(df2[2].reshape(df2[2].shape[0], -1))\n",
    "data_reshaped_y_test = df2[3].reshape(df2[3].shape[0], -1)\n",
    "\n",
    "kernels = generate_kernelss(data_reshaped_x_train.shape[-1], 100000,np.array((7, 9, 11), dtype=np.int32))\n",
    "X_training_transform = apply_kernels(data_reshaped_x_train, kernels)\n",
    "X_test_transform = apply_kernels(data_reshaped_x_test, kernels)\n",
    "\n",
    "# Create a pipeline for feature selection and classification\n",
    "pipeline = Pipeline([\n",
    "    ('feature_selection', SelectFdr(chi2, alpha=0.1)),\n",
    "    ('classifier', LogisticRegressionCV())\n",
    "])\n",
    "\n",
    "# Fit the pipeline\n",
    "pipeline.fit(X_training_transform, data_reshaped_y_train)\n",
    "\n",
    "# Evaluate the model on test data\n",
    "accuracy = pipeline.score(X_test_transform, data_reshaped_y_test)\n",
    "print(\"Accuracy:\", accuracy)"
   ]
  },
  {
   "cell_type": "code",
   "execution_count": null,
   "metadata": {},
   "outputs": [],
   "source": []
  },
  {
   "cell_type": "code",
   "execution_count": 303,
   "metadata": {},
   "outputs": [],
   "source": [
    "data_reshaped_x_train = normalize_data(X_training.reshape(X_training.shape[0], -1))\n",
    "data_reshaped_y_train = Y_training.reshape(Y_training.shape[0], -1)\n",
    "data_reshaped_x_test = normalize_data(X_test.reshape(X_test.shape[0], -1))\n",
    "data_reshaped_y_test = Y_test.reshape(Y_test.shape[0], -1)"
   ]
  },
  {
   "cell_type": "code",
   "execution_count": 304,
   "metadata": {},
   "outputs": [
    {
     "data": {
      "text/plain": [
       "(896, 100)"
      ]
     },
     "execution_count": 304,
     "metadata": {},
     "output_type": "execute_result"
    }
   ],
   "source": [
    "X_training_transform.shape"
   ]
  },
  {
   "cell_type": "code",
   "execution_count": 305,
   "metadata": {},
   "outputs": [],
   "source": [
    "def drop_every_other_observation(dataset,n):\n",
    "    dataframe = dataset.copy()  # Create a copy to avoid modifying the original dataset\n",
    "    dataframe = dataframe[:, ::n]  # Slice the array to keep every other observation\n",
    "    return dataframe\n"
   ]
  },
  {
   "cell_type": "code",
   "execution_count": 306,
   "metadata": {},
   "outputs": [],
   "source": [
    "\n",
    "## Call this for dropping every 2,3,5\n",
    "X_training_1=drop_every_other_observation(X_training,1)\n",
    "X_training_2=drop_every_other_observation(X_training,2)\n",
    "X_training_3=drop_every_other_observation(X_training,3)\n",
    "X_training_6=drop_every_other_observation(X_training,6)"
   ]
  },
  {
   "cell_type": "code",
   "execution_count": 319,
   "metadata": {},
   "outputs": [
    {
     "data": {
      "text/plain": [
       "(896, 945)"
      ]
     },
     "execution_count": 319,
     "metadata": {},
     "output_type": "execute_result"
    }
   ],
   "source": [
    "X_training_1.shape"
   ]
  },
  {
   "cell_type": "code",
   "execution_count": 310,
   "metadata": {},
   "outputs": [
    {
     "name": "stdout",
     "output_type": "stream",
     "text": [
      "(896, 473)\n",
      "(896,)\n"
     ]
    }
   ],
   "source": [
    "print(X_training_2.shape)\n",
    "print(Y_training.shape)"
   ]
  },
  {
   "cell_type": "code",
   "execution_count": 292,
   "metadata": {},
   "outputs": [],
   "source": [
    "vec_datas=[X_training_1,X_training_2,X_training_2,X_training_2]\n",
    "vec_datas_size=[1,2,3,6]\n",
    "# Define kernel sizes\n",
    "kernels_sizes = [\n",
    "    np.array((7, 9, 11), dtype=np.int32),  # default lengths\n",
    "    np.array((15, 15, 15), dtype=np.int32),\n",
    "    np.array((20, 20, 20), dtype=np.int32),\n",
    "    np.array((30, 30, 30), dtype=np.int32),\n",
    "    np.array((35, 35, 35), dtype=np.int32),\n",
    "    np.array((40, 40, 40), dtype=np.int32),\n",
    "    np.array((45, 45, 45), dtype=np.int32),\n",
    "    np.array((60, 60, 60), dtype=np.int32),\n",
    "    np.array((70, 70, 70), dtype=np.int32),\n",
    "    np.array((80, 80, 80), dtype=np.int32),\n",
    "    np.array((120, 120, 120), dtype=np.int32)\n",
    "    # np.array((360, 360, 360), dtype=np.int32),\n",
    "]\n",
    "\n",
    "\n",
    "results_info=[]\n",
    "\n",
    "trials=100\n",
    "for h in range(trials):\n",
    "    for j in range(len(vec_datas)):\n",
    "        kernels = [generate_kernelss(X_training.shape[-1], 100,k) for k in kernels_sizes]\n",
    "        for i in range(len(kernels_sizes)):\n",
    "            X_training_transform = apply_kernels(vec_datas[j], kernels[i])\n",
    "            classifier = LogisticRegressionCV()\n",
    "            classifier.fit(X_training_transform, Y_training)\n",
    "            X_test_transform = apply_kernels(X_test, kernels[i])\n",
    "            predictions = classifier.predict(X_test_transform)\n",
    "            probabilities=classifier.predict_proba(X_test_transform)\n",
    "            results_dict = {\n",
    "            \"frames_per_sec\":vec_datas_size[j],\n",
    "            \"Kernel_length\":  kernels_sizes[i],\n",
    "            \"accuracy/score\": classifier.score(X_test_transform, Y_test),\n",
    "            \"AUC\":metrics.roc_auc_score(Y_test, probabilities,multi_class='ovr'),\n",
    "            \"n_kernels\": 100,\n",
    "            \"final_classifier\": \"Logistic\"}\n",
    "            results_info.append(results_dict)\n",
    "ressults_info_df = pd.DataFrame(results_info)\n"
   ]
  },
  {
   "cell_type": "code",
   "execution_count": 294,
   "metadata": {},
   "outputs": [],
   "source": [
    "# Convert list of vectors to string representation\n",
    "ressults_info_df[\"Kernel_length\"]=ressults_info_df[\"Kernel_length\"].apply(lambda x: ''.join(map(str, x)))\n",
    "\n",
    "# Mapping dictionary\n",
    "kernel_length_mapping = {\n",
    "    '7911': \"(7,9,11)\",\n",
    "    '151515': \"15\",\n",
    "    '202020': \"20\",\n",
    "    '303030': \"30\",\n",
    "    '353535': \"35\",\n",
    "    '404040': \"40\",\n",
    "    '454545': \"45\",\n",
    "    '606060': \"60\",\n",
    "    '707070': \"70\",\n",
    "    '707070': \"70\",\n",
    "    '808080': \"80\",\n",
    "    '120120120': \"120\",\n",
    "}\n",
    "\n",
    "# Replace kernel lengths in the DataFrame\n",
    "ressults_info_df[\"Kernel_length\"] = ressults_info_df[\"Kernel_length\"].map(kernel_length_mapping)\n",
    "\n",
    "# Convert 'Kernel_length' to categorical with custom ordering\n",
    "ressults_info_df['Kernel_length'] = pd.Categorical(ressults_info_df['Kernel_length'], categories=list(kernel_length_mapping.values()), ordered=True)\n"
   ]
  },
  {
   "cell_type": "code",
   "execution_count": 326,
   "metadata": {},
   "outputs": [
    {
     "ename": "AttributeError",
     "evalue": "'NoneType' object has no attribute 'to_pickle'",
     "output_type": "error",
     "traceback": [
      "\u001b[0;31m---------------------------------------------------------------------------\u001b[0m",
      "\u001b[0;31mAttributeError\u001b[0m                            Traceback (most recent call last)",
      "\u001b[0;32m/var/folders/kf/td7j4pms337by229lpg8vb3m0000gn/T/ipykernel_4301/3316281846.py\u001b[0m in \u001b[0;36m<module>\u001b[0;34m\u001b[0m\n\u001b[0;32m----> 1\u001b[0;31m \u001b[0mressults_info_df\u001b[0m\u001b[0;34m.\u001b[0m\u001b[0mto_pickle\u001b[0m\u001b[0;34m(\u001b[0m\u001b[0;34m\"results/results_100k_100i_logictic_auc_Uwave.pkl\"\u001b[0m\u001b[0;34m)\u001b[0m\u001b[0;34m\u001b[0m\u001b[0;34m\u001b[0m\u001b[0m\n\u001b[0m",
      "\u001b[0;31mAttributeError\u001b[0m: 'NoneType' object has no attribute 'to_pickle'"
     ]
    }
   ],
   "source": [
    "ressults_info_df.to_pickle(\"results/results_100k_100i_logictic_auc_Uwave.pkl.pkl\")"
   ]
  },
  {
   "cell_type": "code",
   "execution_count": 343,
   "metadata": {},
   "outputs": [],
   "source": [
    "with open(\"results/results_100k_100i_logictic_auc_Uwave.pkl\", \"rb\") as f:\n",
    "    ressults_info_df = pickle.load(f)"
   ]
  },
  {
   "cell_type": "code",
   "execution_count": 340,
   "metadata": {},
   "outputs": [],
   "source": [
    "# ressults_info_df.drop(ressults_info_df[ressults_info_df[\"frames_per_sec\"] == 1].index, inplace=True)\n"
   ]
  },
  {
   "cell_type": "code",
   "execution_count": 490,
   "metadata": {},
   "outputs": [],
   "source": [
    "ressults_info_df.drop(ressults_info_df[ressults_info_df[\"frames_per_sec\"] == 1].index, inplace=True)\n"
   ]
  },
  {
   "cell_type": "code",
   "execution_count": 491,
   "metadata": {},
   "outputs": [
    {
     "data": {
      "image/png": "[encoded data removed]",
      "text/plain": [
       "<Figure size 1000x600 with 1 Axes>"
      ]
     },
     "metadata": {},
     "output_type": "display_data"
    }
   ],
   "source": [
    "import matplotlib.pyplot as plt\n",
    "import numpy as np\n",
    "from sklearn.utils import resample\n",
    "from scipy.stats import sem\n",
    "\n",
    "# Group the data\n",
    "grouped_data = ressults_info_df.groupby(['frames_per_sec', 'Kernel_length'])\n",
    "\n",
    "# Calculate average accuracies and confidence intervals\n",
    "avg_accuracies = grouped_data['AUC'].mean().reset_index()\n",
    "conf_intervals = grouped_data['AUC'].apply(lambda x: 1.96 * sem(x)).unstack()\n",
    "\n",
    "# Plotting\n",
    "fig, ax = plt.subplots(figsize=(10, 6))\n",
    "\n",
    "for fps, group in avg_accuracies.groupby('frames_per_sec'):\n",
    "    kernel_lengths = group['Kernel_length']\n",
    "    accuracies = group['AUC']\n",
    "    yerr = conf_intervals.loc[fps]\n",
    "    ax.errorbar(kernel_lengths, accuracies, yerr=yerr, label=f'Frames per sec: {fps}', fmt='o', capsize=5, capthick=2, markeredgecolor='black', linestyle='-')\n",
    "\n",
    "ax.set_title('AUC 95% Confidence Intervals vs. Kernel Length')\n",
    "ax.set_xlabel('Kernel Length')\n",
    "ax.set_ylabel('Average AUC')\n",
    "ax.legend(title='Frames per sec')\n",
    "\n",
    "plt.grid(True)\n",
    "plt.show()\n"
   ]
  },
  {
   "cell_type": "code",
   "execution_count": 352,
   "metadata": {},
   "outputs": [],
   "source": [
    "\n",
    "# Load training data\n",
    "training_data = np.loadtxt(\"/Users/viniciusono/ML-research/kernel_size_exploration/FaceAll/FaceAll_TRAIN.txt\")\n",
    "Y_training, X_training = training_data[:, 0].astype(np.int32), training_data[:, 1:]\n",
    "\n",
    "# Load test data\n",
    "test_data = np.loadtxt(\"/Users/viniciusono/ML-research/kernel_size_exploration/FaceAll/FaceAll_TEST.txt\")\n",
    "Y_test, X_test = test_data[:, 0].astype(np.int32), test_data[:, 1:]\n"
   ]
  },
  {
   "cell_type": "code",
   "execution_count": 355,
   "metadata": {},
   "outputs": [
    {
     "data": {
      "text/plain": [
       "array([[-0.24759242, -0.33250262, -0.63210547, ...,  0.02770968,\n",
       "         0.09078972, -0.32731244],\n",
       "       [-0.64157738, -0.93941995, -1.3001737 , ..., -0.38880448,\n",
       "        -0.58183734, -0.24863042],\n",
       "       [-1.672048  , -1.8815147 , -2.0909815 , ..., -0.32589473,\n",
       "        -0.32589473, -0.32589473],\n",
       "       ...,\n",
       "       [-0.58009978, -0.91537015, -1.2035215 , ..., -1.2978307 ,\n",
       "        -1.4583973 , -0.87365684],\n",
       "       [-0.49667316, -0.91444455, -1.2553569 , ..., -0.57532295,\n",
       "        -1.0775952 , -1.5953599 ],\n",
       "       [-1.374355  , -1.2174566 , -0.65528799, ...,  1.8814666 ,\n",
       "         2.6237418 ,  0.83324334]])"
      ]
     },
     "execution_count": 355,
     "metadata": {},
     "output_type": "execute_result"
    }
   ],
   "source": [
    "X_training"
   ]
  },
  {
   "cell_type": "code",
   "execution_count": 356,
   "metadata": {},
   "outputs": [
    {
     "ename": "SystemError",
     "evalue": "_PyEval_EvalFrameDefault returned a result with an error set",
     "output_type": "error",
     "traceback": [
      "\u001b[0;31m---------------------------------------------------------------------------\u001b[0m",
      "\u001b[0;31mZeroDivisionError\u001b[0m                         Traceback (most recent call last)",
      "\u001b[0;31mZeroDivisionError\u001b[0m: division by zero",
      "\nThe above exception was the direct cause of the following exception:\n",
      "\u001b[0;31mSystemError\u001b[0m                               Traceback (most recent call last)",
      "\u001b[0;32m/var/folders/kf/td7j4pms337by229lpg8vb3m0000gn/T/ipykernel_4301/3170566273.py\u001b[0m in \u001b[0;36m<module>\u001b[0;34m\u001b[0m\n\u001b[1;32m     31\u001b[0m         \u001b[0mkernels\u001b[0m \u001b[0;34m=\u001b[0m \u001b[0;34m[\u001b[0m\u001b[0mgenerate_kernelss\u001b[0m\u001b[0;34m(\u001b[0m\u001b[0mX_training\u001b[0m\u001b[0;34m.\u001b[0m\u001b[0mshape\u001b[0m\u001b[0;34m[\u001b[0m\u001b[0;34m-\u001b[0m\u001b[0;36m1\u001b[0m\u001b[0;34m]\u001b[0m\u001b[0;34m,\u001b[0m \u001b[0;36m100\u001b[0m\u001b[0;34m,\u001b[0m\u001b[0mk\u001b[0m\u001b[0;34m)\u001b[0m \u001b[0;32mfor\u001b[0m \u001b[0mk\u001b[0m \u001b[0;32min\u001b[0m \u001b[0mkernels_sizes\u001b[0m\u001b[0;34m]\u001b[0m\u001b[0;34m\u001b[0m\u001b[0;34m\u001b[0m\u001b[0m\n\u001b[1;32m     32\u001b[0m         \u001b[0;32mfor\u001b[0m \u001b[0mi\u001b[0m \u001b[0;32min\u001b[0m \u001b[0mrange\u001b[0m\u001b[0;34m(\u001b[0m\u001b[0mlen\u001b[0m\u001b[0;34m(\u001b[0m\u001b[0mkernels_sizes\u001b[0m\u001b[0;34m)\u001b[0m\u001b[0;34m)\u001b[0m\u001b[0;34m:\u001b[0m\u001b[0;34m\u001b[0m\u001b[0;34m\u001b[0m\u001b[0m\n\u001b[0;32m---> 33\u001b[0;31m             \u001b[0mX_training_transform\u001b[0m \u001b[0;34m=\u001b[0m \u001b[0mapply_kernels\u001b[0m\u001b[0;34m(\u001b[0m\u001b[0mvec_datas\u001b[0m\u001b[0;34m[\u001b[0m\u001b[0mj\u001b[0m\u001b[0;34m]\u001b[0m\u001b[0;34m,\u001b[0m \u001b[0mkernels\u001b[0m\u001b[0;34m[\u001b[0m\u001b[0mi\u001b[0m\u001b[0;34m]\u001b[0m\u001b[0;34m)\u001b[0m\u001b[0;34m\u001b[0m\u001b[0;34m\u001b[0m\u001b[0m\n\u001b[0m\u001b[1;32m     34\u001b[0m             \u001b[0mclassifier\u001b[0m \u001b[0;34m=\u001b[0m \u001b[0mLogisticRegressionCV\u001b[0m\u001b[0;34m(\u001b[0m\u001b[0;34m)\u001b[0m\u001b[0;34m\u001b[0m\u001b[0;34m\u001b[0m\u001b[0m\n\u001b[1;32m     35\u001b[0m             \u001b[0mclassifier\u001b[0m\u001b[0;34m.\u001b[0m\u001b[0mfit\u001b[0m\u001b[0;34m(\u001b[0m\u001b[0mX_training_transform\u001b[0m\u001b[0;34m,\u001b[0m \u001b[0mY_training\u001b[0m\u001b[0;34m)\u001b[0m\u001b[0;34m\u001b[0m\u001b[0;34m\u001b[0m\u001b[0m\n",
      "\u001b[0;31mSystemError\u001b[0m: _PyEval_EvalFrameDefault returned a result with an error set"
     ]
    }
   ],
   "source": [
    "\n",
    "## Call this for dropping every 2,3,5\n",
    "X_training_1=drop_every_other_observation(X_training,1)\n",
    "X_training_2=drop_every_other_observation(X_training,2)\n",
    "X_training_3=drop_every_other_observation(X_training,3)\n",
    "X_training_6=drop_every_other_observation(X_training,6)\n",
    "\n",
    "vec_datas=[X_training_1,X_training_2,X_training_2,X_training_2]\n",
    "vec_datas_size=[1,2,3,6]\n",
    "# Define kernel sizes\n",
    "kernels_sizes = [\n",
    "    np.array((7, 9, 11), dtype=np.int32),  # default lengths\n",
    "    np.array((15, 15, 15), dtype=np.int32),\n",
    "    np.array((20, 20, 20), dtype=np.int32),\n",
    "    np.array((30, 30, 30), dtype=np.int32),\n",
    "    np.array((35, 35, 35), dtype=np.int32),\n",
    "    np.array((40, 40, 40), dtype=np.int32),\n",
    "    np.array((45, 45, 45), dtype=np.int32),\n",
    "    np.array((60, 60, 60), dtype=np.int32),\n",
    "    np.array((70, 70, 70), dtype=np.int32),\n",
    "    np.array((80, 80, 80), dtype=np.int32),\n",
    "    np.array((120, 120, 120), dtype=np.int32)\n",
    "    # np.array((360, 360, 360), dtype=np.int32),\n",
    "]\n",
    "\n",
    "\n",
    "results_info=[]\n",
    "\n",
    "trials=100\n",
    "for h in range(trials):\n",
    "    for j in range(len(vec_datas)):\n",
    "        kernels = [generate_kernelss(X_training.shape[-1], 100,k) for k in kernels_sizes]\n",
    "        for i in range(len(kernels_sizes)):\n",
    "            X_training_transform = apply_kernels(vec_datas[j], kernels[i])\n",
    "            classifier = LogisticRegressionCV()\n",
    "            classifier.fit(X_training_transform, Y_training)\n",
    "            X_test_transform = apply_kernels(X_test, kernels[i])\n",
    "            predictions = classifier.predict(X_test_transform)\n",
    "            probabilities=classifier.predict_proba(X_test_transform)\n",
    "            results_dict = {\n",
    "            \"frames_per_sec\":vec_datas_size[j],\n",
    "            \"Kernel_length\":  kernels_sizes[i],\n",
    "            \"accuracy/score\": classifier.score(X_test_transform, Y_test),\n",
    "            \"AUC\":metrics.roc_auc_score(Y_test, probabilities,multi_class='ovr'),\n",
    "            \"n_kernels\": 100,\n",
    "            \"final_classifier\": \"Logistic\"}\n",
    "            results_info.append(results_dict)\n",
    "ressults_info_df = pd.DataFrame(results_info)\n"
   ]
  },
  {
   "cell_type": "code",
   "execution_count": null,
   "metadata": {},
   "outputs": [],
   "source": [
    "# Convert list of vectors to string representation\n",
    "ressults_info_df[\"Kernel_length\"]=ressults_info_df[\"Kernel_length\"].apply(lambda x: ''.join(map(str, x)))\n",
    "\n",
    "# Mapping dictionary\n",
    "kernel_length_mapping = {\n",
    "    '7911': \"(7,9,11)\",\n",
    "    '151515': \"15\",\n",
    "    '202020': \"20\",\n",
    "    '303030': \"30\",\n",
    "    '353535': \"35\",\n",
    "    '404040': \"40\",\n",
    "    '454545': \"45\",\n",
    "    '606060': \"60\",\n",
    "    '707070': \"70\",\n",
    "    '707070': \"70\",\n",
    "    '808080': \"80\",\n",
    "    '120120120': \"120\",\n",
    "}\n",
    "\n",
    "# Replace kernel lengths in the DataFrame\n",
    "ressults_info_df[\"Kernel_length\"] = ressults_info_df[\"Kernel_length\"].map(kernel_length_mapping)\n",
    "\n",
    "# Convert 'Kernel_length' to categorical with custom ordering\n",
    "ressults_info_df['Kernel_length'] = pd.Categorical(ressults_info_df['Kernel_length'], categories=list(kernel_length_mapping.values()), ordered=True)\n"
   ]
  },
  {
   "cell_type": "code",
   "execution_count": null,
   "metadata": {},
   "outputs": [],
   "source": [
    "ressults_info_df.to_pickle(\"results/results_100k_100i_logictic_auc_Face.pkl.pkl\")"
   ]
  }
 ],
 "metadata": {
  "kernelspec": {
   "display_name": "base",
   "language": "python",
   "name": "python3"
  },
  "language_info": {
   "codemirror_mode": {
    "name": "ipython",
    "version": 3
   },
   "file_extension": ".py",
   "mimetype": "text/x-python",
   "name": "python",
   "nbconvert_exporter": "python",
   "pygments_lexer": "ipython3",
   "version": "3.9.13"
  }
 },
 "nbformat": 4,
 "nbformat_minor": 2
}
